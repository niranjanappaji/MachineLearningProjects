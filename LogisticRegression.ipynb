{
 "cells": [
  {
   "cell_type": "code",
   "execution_count": 1,
   "id": "61113d92",
   "metadata": {},
   "outputs": [],
   "source": [
    "import pandas as pd\n",
    "import matplotlib.pyplot as plt\n",
    "import numpy as np"
   ]
  },
  {
   "cell_type": "code",
   "execution_count": 2,
   "id": "0ce574bb",
   "metadata": {},
   "outputs": [
    {
     "data": {
      "text/html": [
       "<div>\n",
       "<style scoped>\n",
       "    .dataframe tbody tr th:only-of-type {\n",
       "        vertical-align: middle;\n",
       "    }\n",
       "\n",
       "    .dataframe tbody tr th {\n",
       "        vertical-align: top;\n",
       "    }\n",
       "\n",
       "    .dataframe thead th {\n",
       "        text-align: right;\n",
       "    }\n",
       "</style>\n",
       "<table border=\"1\" class=\"dataframe\">\n",
       "  <thead>\n",
       "    <tr style=\"text-align: right;\">\n",
       "      <th></th>\n",
       "      <th>town</th>\n",
       "      <th>flat_type</th>\n",
       "      <th>floor_area_sqm</th>\n",
       "      <th>flat_model</th>\n",
       "      <th>lease_commence_date</th>\n",
       "      <th>resale_price</th>\n",
       "      <th>norm_resale_price</th>\n",
       "      <th>Cluster</th>\n",
       "      <th>label</th>\n",
       "      <th>dlabel1</th>\n",
       "      <th>dlabel2</th>\n",
       "      <th>dlabel3</th>\n",
       "      <th>LH</th>\n",
       "    </tr>\n",
       "  </thead>\n",
       "  <tbody>\n",
       "    <tr>\n",
       "      <th>0</th>\n",
       "      <td>8</td>\n",
       "      <td>2</td>\n",
       "      <td>104.0</td>\n",
       "      <td>5</td>\n",
       "      <td>1989</td>\n",
       "      <td>400000.0</td>\n",
       "      <td>0.403633</td>\n",
       "      <td>low</td>\n",
       "      <td>1</td>\n",
       "      <td>1</td>\n",
       "      <td>0</td>\n",
       "      <td>0</td>\n",
       "      <td>0</td>\n",
       "    </tr>\n",
       "    <tr>\n",
       "      <th>1</th>\n",
       "      <td>4</td>\n",
       "      <td>1</td>\n",
       "      <td>64.0</td>\n",
       "      <td>12</td>\n",
       "      <td>1969</td>\n",
       "      <td>404000.0</td>\n",
       "      <td>0.407669</td>\n",
       "      <td>low</td>\n",
       "      <td>1</td>\n",
       "      <td>1</td>\n",
       "      <td>0</td>\n",
       "      <td>0</td>\n",
       "      <td>0</td>\n",
       "    </tr>\n",
       "    <tr>\n",
       "      <th>2</th>\n",
       "      <td>13</td>\n",
       "      <td>4</td>\n",
       "      <td>141.0</td>\n",
       "      <td>1</td>\n",
       "      <td>1989</td>\n",
       "      <td>422000.0</td>\n",
       "      <td>0.425832</td>\n",
       "      <td>med</td>\n",
       "      <td>2</td>\n",
       "      <td>0</td>\n",
       "      <td>1</td>\n",
       "      <td>0</td>\n",
       "      <td>0</td>\n",
       "    </tr>\n",
       "    <tr>\n",
       "      <th>3</th>\n",
       "      <td>13</td>\n",
       "      <td>1</td>\n",
       "      <td>74.0</td>\n",
       "      <td>5</td>\n",
       "      <td>1984</td>\n",
       "      <td>375000.0</td>\n",
       "      <td>0.378406</td>\n",
       "      <td>low</td>\n",
       "      <td>1</td>\n",
       "      <td>1</td>\n",
       "      <td>0</td>\n",
       "      <td>0</td>\n",
       "      <td>0</td>\n",
       "    </tr>\n",
       "    <tr>\n",
       "      <th>4</th>\n",
       "      <td>12</td>\n",
       "      <td>2</td>\n",
       "      <td>95.0</td>\n",
       "      <td>9</td>\n",
       "      <td>1982</td>\n",
       "      <td>385000.0</td>\n",
       "      <td>0.388496</td>\n",
       "      <td>low</td>\n",
       "      <td>1</td>\n",
       "      <td>1</td>\n",
       "      <td>0</td>\n",
       "      <td>0</td>\n",
       "      <td>0</td>\n",
       "    </tr>\n",
       "  </tbody>\n",
       "</table>\n",
       "</div>"
      ],
      "text/plain": [
       "   town  flat_type  floor_area_sqm  flat_model  lease_commence_date  \\\n",
       "0     8          2           104.0           5                 1989   \n",
       "1     4          1            64.0          12                 1969   \n",
       "2    13          4           141.0           1                 1989   \n",
       "3    13          1            74.0           5                 1984   \n",
       "4    12          2            95.0           9                 1982   \n",
       "\n",
       "   resale_price  norm_resale_price Cluster  label  dlabel1  dlabel2  dlabel3  \\\n",
       "0      400000.0           0.403633     low      1        1        0        0   \n",
       "1      404000.0           0.407669     low      1        1        0        0   \n",
       "2      422000.0           0.425832     med      2        0        1        0   \n",
       "3      375000.0           0.378406     low      1        1        0        0   \n",
       "4      385000.0           0.388496     low      1        1        0        0   \n",
       "\n",
       "   LH  \n",
       "0   0  \n",
       "1   0  \n",
       "2   0  \n",
       "3   0  \n",
       "4   0  "
      ]
     },
     "execution_count": 2,
     "metadata": {},
     "output_type": "execute_result"
    }
   ],
   "source": [
    "hdb_df = pd.read_excel(\"resale17cc.xlsx\")\n",
    "\n",
    "hdb_df.head()"
   ]
  },
  {
   "cell_type": "code",
   "execution_count": 3,
   "id": "1ed2ee32",
   "metadata": {},
   "outputs": [
    {
     "data": {
      "text/plain": [
       "(2000, 13)"
      ]
     },
     "execution_count": 3,
     "metadata": {},
     "output_type": "execute_result"
    }
   ],
   "source": [
    "hdb_df.shape"
   ]
  },
  {
   "cell_type": "code",
   "execution_count": 4,
   "id": "d2440319",
   "metadata": {},
   "outputs": [
    {
     "data": {
      "text/plain": [
       "pandas.core.frame.DataFrame"
      ]
     },
     "execution_count": 4,
     "metadata": {},
     "output_type": "execute_result"
    }
   ],
   "source": [
    "type(hdb_df)"
   ]
  },
  {
   "cell_type": "code",
   "execution_count": 13,
   "id": "f04a814c",
   "metadata": {},
   "outputs": [
    {
     "name": "stdout",
     "output_type": "stream",
     "text": [
      "[[8.000e+00 2.000e+00 1.040e+02 5.000e+00 1.989e+03]\n",
      " [4.000e+00 1.000e+00 6.400e+01 1.200e+01 1.969e+03]\n",
      " [1.300e+01 4.000e+00 1.410e+02 1.000e+00 1.989e+03]\n",
      " ...\n",
      " [2.200e+01 2.000e+00 1.040e+02 5.000e+00 1.989e+03]\n",
      " [1.300e+01 2.000e+00 1.000e+02 5.000e+00 1.998e+03]\n",
      " [1.700e+01 2.000e+00 9.200e+01 1.000e+01 2.009e+03]]\n"
     ]
    }
   ],
   "source": [
    "x = hdb_df.iloc[:, 0:5].values\n",
    "y = hdb_df.iloc[:, 8].values\n",
    "\n",
    "print(x)"
   ]
  },
  {
   "cell_type": "code",
   "execution_count": 31,
   "id": "48688fde",
   "metadata": {},
   "outputs": [],
   "source": [
    "from sklearn.model_selection import train_test_split\n",
    "x_train, x_test, y_train, y_test = train_test_split(x, y, test_size=0.2, random_state=1)"
   ]
  },
  {
   "cell_type": "code",
   "execution_count": 32,
   "id": "98fac082",
   "metadata": {},
   "outputs": [
    {
     "name": "stdout",
     "output_type": "stream",
     "text": [
      "(1600, 5)\n",
      "(400, 5)\n",
      "(1600,)\n",
      "(400,)\n"
     ]
    }
   ],
   "source": [
    "print(x_train.shape)\n",
    "print(x_test.shape)\n",
    "print(y_train.shape)\n",
    "print(y_test.shape)"
   ]
  },
  {
   "cell_type": "code",
   "execution_count": 33,
   "id": "f17b6c10",
   "metadata": {},
   "outputs": [
    {
     "name": "stdout",
     "output_type": "stream",
     "text": [
      "[[8.000e+00 2.000e+00 1.040e+02 5.000e+00 1.989e+03]\n",
      " [1.000e+00 2.000e+00 9.100e+01 9.000e+00 1.978e+03]\n",
      " [7.000e+00 2.000e+00 9.500e+01 1.400e+01 2.011e+03]\n",
      " ...\n",
      " [0.000e+00 3.000e+00 1.190e+02 3.000e+00 1.980e+03]\n",
      " [1.500e+01 2.000e+00 8.200e+01 3.000e+00 1.975e+03]\n",
      " [1.300e+01 2.000e+00 1.030e+02 5.000e+00 1.985e+03]]\n",
      "\n",
      " StandardScaler()\n",
      "\n",
      " [  13.7125       2.13875     97.8203125    5.98875   1990.3725   ]\n",
      "\n",
      " [[-0.71873917 -0.1503189   0.25226699 -0.31528413 -0.12938186]\n",
      " [-1.59946987 -0.1503189  -0.27841857  0.9602016  -1.16632206]\n",
      " [-0.84455784 -0.1503189  -0.1151307   2.55455876  1.94449855]\n",
      " ...\n",
      " [-1.72528855  0.93306057  0.86459649 -0.95302699 -0.97778748]\n",
      " [ 0.16199154 -0.1503189  -0.64581626 -0.95302699 -1.44912394]\n",
      " [-0.0896458  -0.1503189   0.21144503 -0.31528413 -0.50645102]]\n"
     ]
    }
   ],
   "source": [
    "from sklearn.preprocessing import StandardScaler\n",
    "print(x_train)\n",
    "\n",
    "scaler = StandardScaler()\n",
    "print('\\n',scaler.fit(x_train))\n",
    "print('\\n',scaler.mean_)\n",
    "\n",
    "x_train = scaler.transform(x_train)\n",
    "x_test = scaler.transform(x_test)\n",
    "\n",
    "print('\\n',x_train)"
   ]
  },
  {
   "cell_type": "code",
   "execution_count": 55,
   "id": "e0251c0c",
   "metadata": {},
   "outputs": [],
   "source": [
    "from sklearn.linear_model import LogisticRegression\n",
    "\n",
    "hdb_class = LogisticRegression(random_state = 1, solver='newton-cholesky', penalty='l2')\n",
    "\n",
    "hdb_class.fit(x_train, y_train)\n",
    "\n",
    "hdb_test_class = hdb_class.predict(x_test)"
   ]
  },
  {
   "cell_type": "code",
   "execution_count": 56,
   "id": "6af34e8f",
   "metadata": {},
   "outputs": [
    {
     "name": "stdout",
     "output_type": "stream",
     "text": [
      "[[132  45   0]\n",
      " [ 35 120   9]\n",
      " [  0  35  24]]\n",
      "\n",
      "               precision    recall  f1-score   support\n",
      "\n",
      "           1       0.79      0.75      0.77       177\n",
      "           2       0.60      0.73      0.66       164\n",
      "           3       0.73      0.41      0.52        59\n",
      "\n",
      "    accuracy                           0.69       400\n",
      "   macro avg       0.71      0.63      0.65       400\n",
      "weighted avg       0.70      0.69      0.69       400\n",
      "\n"
     ]
    }
   ],
   "source": [
    "from sklearn.metrics import classification_report, confusion_matrix\n",
    "\n",
    "print(confusion_matrix(y_test, hdb_test_class))\n",
    "\n",
    "print('\\n', classification_report(y_test, hdb_test_class))"
   ]
  },
  {
   "cell_type": "code",
   "execution_count": 53,
   "id": "41c67025",
   "metadata": {},
   "outputs": [],
   "source": [
    "hdb_class1 = LogisticRegression(random_state = 1, solver='liblinear', penalty='l2', max_iter = 10)\n",
    "\n",
    "hdb_class1.fit(x_train, y_train)\n",
    "\n",
    "hdb_test_class1 = hdb_class1.predict(x_test)"
   ]
  },
  {
   "cell_type": "code",
   "execution_count": 47,
   "id": "25a3f653",
   "metadata": {},
   "outputs": [
    {
     "name": "stdout",
     "output_type": "stream",
     "text": [
      "[[132  45   0]\n",
      " [ 35 120   9]\n",
      " [  0  35  24]]\n",
      "\n",
      "               precision    recall  f1-score   support\n",
      "\n",
      "           1       0.79      0.75      0.77       177\n",
      "           2       0.60      0.73      0.66       164\n",
      "           3       0.73      0.41      0.52        59\n",
      "\n",
      "    accuracy                           0.69       400\n",
      "   macro avg       0.71      0.63      0.65       400\n",
      "weighted avg       0.70      0.69      0.69       400\n",
      "\n"
     ]
    }
   ],
   "source": [
    "print(confusion_matrix(y_test, hdb_test_class1))\n",
    "\n",
    "print('\\n', classification_report(y_test, hdb_test_class1))"
   ]
  },
  {
   "cell_type": "code",
   "execution_count": null,
   "id": "438513c8",
   "metadata": {},
   "outputs": [],
   "source": []
  }
 ],
 "metadata": {
  "kernelspec": {
   "display_name": "Python 3 (ipykernel)",
   "language": "python",
   "name": "python3"
  },
  "language_info": {
   "codemirror_mode": {
    "name": "ipython",
    "version": 3
   },
   "file_extension": ".py",
   "mimetype": "text/x-python",
   "name": "python",
   "nbconvert_exporter": "python",
   "pygments_lexer": "ipython3",
   "version": "3.11.5"
  }
 },
 "nbformat": 4,
 "nbformat_minor": 5
}
